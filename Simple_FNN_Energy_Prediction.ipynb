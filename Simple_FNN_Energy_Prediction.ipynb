{
 "cells": [
  {
   "cell_type": "code",
   "execution_count": 1,
   "id": "ecad13c5-cfdf-44e1-a1d2-f41ef1429b36",
   "metadata": {},
   "outputs": [],
   "source": [
    "import numpy as np\n",
    "import pandas as pd\n",
    "import matplotlib.pyplot as plt\n",
    "from sklearn.model_selection import train_test_split\n",
    "from sklearn.preprocessing import StandardScaler\n",
    "from tensorflow.keras.models import Sequential\n",
    "from tensorflow.keras.layers import Dense"
   ]
  },
  {
   "cell_type": "code",
   "execution_count": 2,
   "id": "f88094e4-4c8e-4641-86e7-aa457963f2b1",
   "metadata": {},
   "outputs": [
    {
     "data": {
      "text/html": [
       "<div>\n",
       "<style scoped>\n",
       "    .dataframe tbody tr th:only-of-type {\n",
       "        vertical-align: middle;\n",
       "    }\n",
       "\n",
       "    .dataframe tbody tr th {\n",
       "        vertical-align: top;\n",
       "    }\n",
       "\n",
       "    .dataframe thead th {\n",
       "        text-align: right;\n",
       "    }\n",
       "</style>\n",
       "<table border=\"1\" class=\"dataframe\">\n",
       "  <thead>\n",
       "    <tr style=\"text-align: right;\">\n",
       "      <th></th>\n",
       "      <th>temperature</th>\n",
       "      <th>humidity</th>\n",
       "      <th>wind_speed</th>\n",
       "      <th>solar_irradiance</th>\n",
       "      <th>energy_consumption</th>\n",
       "    </tr>\n",
       "  </thead>\n",
       "  <tbody>\n",
       "    <tr>\n",
       "      <th>0</th>\n",
       "      <td>24.967142</td>\n",
       "      <td>31.723781</td>\n",
       "      <td>2.190688</td>\n",
       "      <td>648.318007</td>\n",
       "      <td>177.621142</td>\n",
       "    </tr>\n",
       "    <tr>\n",
       "      <th>1</th>\n",
       "      <td>18.617357</td>\n",
       "      <td>27.319749</td>\n",
       "      <td>0.367214</td>\n",
       "      <td>74.105423</td>\n",
       "      <td>235.830819</td>\n",
       "    </tr>\n",
       "    <tr>\n",
       "      <th>2</th>\n",
       "      <td>26.476885</td>\n",
       "      <td>64.550117</td>\n",
       "      <td>1.080258</td>\n",
       "      <td>375.468928</td>\n",
       "      <td>229.718452</td>\n",
       "    </tr>\n",
       "    <tr>\n",
       "      <th>3</th>\n",
       "      <td>35.230299</td>\n",
       "      <td>69.453301</td>\n",
       "      <td>3.388606</td>\n",
       "      <td>803.814545</td>\n",
       "      <td>229.861478</td>\n",
       "    </tr>\n",
       "    <tr>\n",
       "      <th>4</th>\n",
       "      <td>17.658466</td>\n",
       "      <td>22.211030</td>\n",
       "      <td>8.025857</td>\n",
       "      <td>433.472233</td>\n",
       "      <td>230.766187</td>\n",
       "    </tr>\n",
       "  </tbody>\n",
       "</table>\n",
       "</div>"
      ],
      "text/plain": [
       "   temperature   humidity  wind_speed  solar_irradiance  energy_consumption\n",
       "0    24.967142  31.723781    2.190688        648.318007          177.621142\n",
       "1    18.617357  27.319749    0.367214         74.105423          235.830819\n",
       "2    26.476885  64.550117    1.080258        375.468928          229.718452\n",
       "3    35.230299  69.453301    3.388606        803.814545          229.861478\n",
       "4    17.658466  22.211030    8.025857        433.472233          230.766187"
      ]
     },
     "execution_count": 2,
     "metadata": {},
     "output_type": "execute_result"
    }
   ],
   "source": [
    "data = pd.read_csv(r\"C:\\Users\\Tarun Singh\\OneDrive\\Desktop\\Green Skill\\Dataset\\predict_energy_consumption.csv\")\n",
    "data.head()"
   ]
  },
  {
   "cell_type": "code",
   "execution_count": 3,
   "id": "5fdeaafc-8ee5-46b0-92a9-e3b120a90b9d",
   "metadata": {},
   "outputs": [],
   "source": [
    "X = data[['temperature', 'humidity', 'wind_speed', 'solar_irradiance']].values\n",
    "y = data['energy_consumption'].values"
   ]
  },
  {
   "cell_type": "code",
   "execution_count": 4,
   "id": "b188fb21",
   "metadata": {},
   "outputs": [
    {
     "name": "stdout",
     "output_type": "stream",
     "text": [
      "<class 'pandas.core.frame.DataFrame'>\n",
      "RangeIndex: 1000 entries, 0 to 999\n",
      "Data columns (total 5 columns):\n",
      " #   Column              Non-Null Count  Dtype  \n",
      "---  ------              --------------  -----  \n",
      " 0   temperature         1000 non-null   float64\n",
      " 1   humidity            1000 non-null   float64\n",
      " 2   wind_speed          1000 non-null   float64\n",
      " 3   solar_irradiance    1000 non-null   float64\n",
      " 4   energy_consumption  1000 non-null   float64\n",
      "dtypes: float64(5)\n",
      "memory usage: 39.2 KB\n",
      "None\n",
      "       temperature     humidity   wind_speed  solar_irradiance  \\\n",
      "count  1000.000000  1000.000000  1000.000000       1000.000000   \n",
      "mean     20.193321    55.255416     4.944950        493.236966   \n",
      "std       9.792159    20.184978     2.889197        285.687493   \n",
      "min     -12.412673    20.225278     0.000116          0.030719   \n",
      "25%      13.524097    37.303938     2.565235        248.421206   \n",
      "50%      20.253006    56.128822     4.917106        489.508500   \n",
      "75%      26.479439    72.242304     7.386289        734.505719   \n",
      "max      58.527315    89.958961     9.978209        999.557703   \n",
      "\n",
      "       energy_consumption  \n",
      "count         1000.000000  \n",
      "mean           239.714336  \n",
      "std             37.640277  \n",
      "min            146.545372  \n",
      "25%            212.988738  \n",
      "50%            234.649680  \n",
      "75%            262.990862  \n",
      "max            408.464783  \n",
      "temperature           0\n",
      "humidity              0\n",
      "wind_speed            0\n",
      "solar_irradiance      0\n",
      "energy_consumption    0\n",
      "dtype: int64\n"
     ]
    }
   ],
   "source": [
    "print(data.info())\n",
    "print(data.describe())\n",
    "print(data.isnull().sum())"
   ]
  },
  {
   "cell_type": "code",
   "execution_count": 5,
   "id": "b42cba18-b257-4dd5-827f-6a7357a020bd",
   "metadata": {},
   "outputs": [],
   "source": [
    "X_train, X_test, y_train, y_test = train_test_split(X, y, test_size=0.2, random_state=42)"
   ]
  },
  {
   "cell_type": "code",
   "execution_count": 6,
   "id": "44fc6c3f-2df5-4f80-958b-e65449affe11",
   "metadata": {},
   "outputs": [],
   "source": [
    "scaler = StandardScaler()\n",
    "X_train = scaler.fit_transform(X_train)\n",
    "X_test = scaler.transform(X_test)"
   ]
  },
  {
   "cell_type": "code",
   "execution_count": 7,
   "id": "304445b4-6200-4d4e-badb-f5fe08c10820",
   "metadata": {},
   "outputs": [
    {
     "name": "stderr",
     "output_type": "stream",
     "text": [
      "c:\\Users\\Tarun Singh\\AppData\\Local\\Programs\\Python\\Python311\\Lib\\site-packages\\keras\\src\\layers\\core\\dense.py:93: UserWarning: Do not pass an `input_shape`/`input_dim` argument to a layer. When using Sequential models, prefer using an `Input(shape)` object as the first layer in the model instead.\n",
      "  super().__init__(activity_regularizer=activity_regularizer, **kwargs)\n"
     ]
    }
   ],
   "source": [
    "model = Sequential([\n",
    "    Dense(64, activation='relu', input_shape=(X_train.shape[1],)),  # Input layer with 64 neurons\n",
    "    Dense(32, activation='relu'),  # Hidden layer with 32 neurons\n",
    "    Dense(1)  # Output layer for regression (1 neuron)\n",
    "])"
   ]
  },
  {
   "cell_type": "code",
   "execution_count": 8,
   "id": "e19c54dc-8376-430e-95a5-e815eea90a60",
   "metadata": {},
   "outputs": [],
   "source": [
    "from sklearn.metrics import r2_score\n",
    "model.compile(optimizer='adam', loss='mse', metrics=['mae'])  \n",
    "# Mean Squared Error and Mean Absolute Error"
   ]
  },
  {
   "cell_type": "code",
   "execution_count": 9,
   "id": "5e0b1f47-46b7-4723-a7f4-87be961d42c0",
   "metadata": {},
   "outputs": [
    {
     "name": "stdout",
     "output_type": "stream",
     "text": [
      "Epoch 1/50\n",
      "\u001b[1m20/20\u001b[0m \u001b[32m━━━━━━━━━━━━━━━━━━━━\u001b[0m\u001b[37m\u001b[0m \u001b[1m2s\u001b[0m 17ms/step - loss: 59233.8125 - mae: 240.1857 - val_loss: 57662.1875 - val_mae: 237.3245\n",
      "Epoch 2/50\n",
      "\u001b[1m20/20\u001b[0m \u001b[32m━━━━━━━━━━━━━━━━━━━━\u001b[0m\u001b[37m\u001b[0m \u001b[1m0s\u001b[0m 6ms/step - loss: 59803.0508 - mae: 241.7656 - val_loss: 57150.0742 - val_mae: 236.2538\n",
      "Epoch 3/50\n",
      "\u001b[1m20/20\u001b[0m \u001b[32m━━━━━━━━━━━━━━━━━━━━\u001b[0m\u001b[37m\u001b[0m \u001b[1m0s\u001b[0m 5ms/step - loss: 58309.7930 - mae: 238.6298 - val_loss: 56321.1680 - val_mae: 234.5123\n",
      "Epoch 4/50\n",
      "\u001b[1m20/20\u001b[0m \u001b[32m━━━━━━━━━━━━━━━━━━━━\u001b[0m\u001b[37m\u001b[0m \u001b[1m0s\u001b[0m 6ms/step - loss: 55833.4258 - mae: 233.5952 - val_loss: 55009.1484 - val_mae: 231.7269\n",
      "Epoch 5/50\n",
      "\u001b[1m20/20\u001b[0m \u001b[32m━━━━━━━━━━━━━━━━━━━━\u001b[0m\u001b[37m\u001b[0m \u001b[1m0s\u001b[0m 8ms/step - loss: 55840.4766 - mae: 233.1513 - val_loss: 52999.3516 - val_mae: 227.3971\n",
      "Epoch 6/50\n",
      "\u001b[1m20/20\u001b[0m \u001b[32m━━━━━━━━━━━━━━━━━━━━\u001b[0m\u001b[37m\u001b[0m \u001b[1m0s\u001b[0m 6ms/step - loss: 52917.2422 - mae: 226.9793 - val_loss: 50087.8828 - val_mae: 220.9771\n",
      "Epoch 7/50\n",
      "\u001b[1m20/20\u001b[0m \u001b[32m━━━━━━━━━━━━━━━━━━━━\u001b[0m\u001b[37m\u001b[0m \u001b[1m0s\u001b[0m 7ms/step - loss: 50445.3633 - mae: 221.6968 - val_loss: 46098.9453 - val_mae: 211.8770\n",
      "Epoch 8/50\n",
      "\u001b[1m20/20\u001b[0m \u001b[32m━━━━━━━━━━━━━━━━━━━━\u001b[0m\u001b[37m\u001b[0m \u001b[1m0s\u001b[0m 5ms/step - loss: 44884.4258 - mae: 209.2583 - val_loss: 41022.6250 - val_mae: 199.6861\n",
      "Epoch 9/50\n",
      "\u001b[1m20/20\u001b[0m \u001b[32m━━━━━━━━━━━━━━━━━━━━\u001b[0m\u001b[37m\u001b[0m \u001b[1m0s\u001b[0m 7ms/step - loss: 40627.6094 - mae: 198.3800 - val_loss: 34838.2539 - val_mae: 183.7604\n",
      "Epoch 10/50\n",
      "\u001b[1m20/20\u001b[0m \u001b[32m━━━━━━━━━━━━━━━━━━━━\u001b[0m\u001b[37m\u001b[0m \u001b[1m0s\u001b[0m 5ms/step - loss: 34544.2109 - mae: 182.6953 - val_loss: 28017.3867 - val_mae: 164.3764\n",
      "Epoch 11/50\n",
      "\u001b[1m20/20\u001b[0m \u001b[32m━━━━━━━━━━━━━━━━━━━━\u001b[0m\u001b[37m\u001b[0m \u001b[1m0s\u001b[0m 7ms/step - loss: 27165.6426 - mae: 161.7884 - val_loss: 21066.7168 - val_mae: 141.8587\n",
      "Epoch 12/50\n",
      "\u001b[1m20/20\u001b[0m \u001b[32m━━━━━━━━━━━━━━━━━━━━\u001b[0m\u001b[37m\u001b[0m \u001b[1m0s\u001b[0m 5ms/step - loss: 19890.9766 - mae: 137.4672 - val_loss: 14565.4629 - val_mae: 116.8355\n",
      "Epoch 13/50\n",
      "\u001b[1m20/20\u001b[0m \u001b[32m━━━━━━━━━━━━━━━━━━━━\u001b[0m\u001b[37m\u001b[0m \u001b[1m0s\u001b[0m 5ms/step - loss: 13778.6973 - mae: 113.4019 - val_loss: 9169.9170 - val_mae: 90.8070\n",
      "Epoch 14/50\n",
      "\u001b[1m20/20\u001b[0m \u001b[32m━━━━━━━━━━━━━━━━━━━━\u001b[0m\u001b[37m\u001b[0m \u001b[1m0s\u001b[0m 6ms/step - loss: 8239.7705 - mae: 85.4147 - val_loss: 5285.1479 - val_mae: 65.8900\n",
      "Epoch 15/50\n",
      "\u001b[1m20/20\u001b[0m \u001b[32m━━━━━━━━━━━━━━━━━━━━\u001b[0m\u001b[37m\u001b[0m \u001b[1m0s\u001b[0m 6ms/step - loss: 4765.7661 - mae: 62.4963 - val_loss: 2903.2246 - val_mae: 45.6467\n",
      "Epoch 16/50\n",
      "\u001b[1m20/20\u001b[0m \u001b[32m━━━━━━━━━━━━━━━━━━━━\u001b[0m\u001b[37m\u001b[0m \u001b[1m0s\u001b[0m 7ms/step - loss: 2691.9775 - mae: 45.1758 - val_loss: 1715.2562 - val_mae: 33.8623\n",
      "Epoch 17/50\n",
      "\u001b[1m20/20\u001b[0m \u001b[32m━━━━━━━━━━━━━━━━━━━━\u001b[0m\u001b[37m\u001b[0m \u001b[1m0s\u001b[0m 9ms/step - loss: 1587.7935 - mae: 32.4737 - val_loss: 1249.9283 - val_mae: 28.9377\n",
      "Epoch 18/50\n",
      "\u001b[1m20/20\u001b[0m \u001b[32m━━━━━━━━━━━━━━━━━━━━\u001b[0m\u001b[37m\u001b[0m \u001b[1m0s\u001b[0m 9ms/step - loss: 1144.3580 - mae: 27.7476 - val_loss: 1103.6047 - val_mae: 27.7124\n",
      "Epoch 19/50\n",
      "\u001b[1m20/20\u001b[0m \u001b[32m━━━━━━━━━━━━━━━━━━━━\u001b[0m\u001b[37m\u001b[0m \u001b[1m0s\u001b[0m 7ms/step - loss: 973.7382 - mae: 25.3850 - val_loss: 1066.6829 - val_mae: 27.4828\n",
      "Epoch 20/50\n",
      "\u001b[1m20/20\u001b[0m \u001b[32m━━━━━━━━━━━━━━━━━━━━\u001b[0m\u001b[37m\u001b[0m \u001b[1m0s\u001b[0m 6ms/step - loss: 903.4606 - mae: 24.3640 - val_loss: 1052.4443 - val_mae: 27.2799\n",
      "Epoch 21/50\n",
      "\u001b[1m20/20\u001b[0m \u001b[32m━━━━━━━━━━━━━━━━━━━━\u001b[0m\u001b[37m\u001b[0m \u001b[1m0s\u001b[0m 10ms/step - loss: 894.5925 - mae: 24.0048 - val_loss: 1037.3346 - val_mae: 26.9880\n",
      "Epoch 22/50\n",
      "\u001b[1m20/20\u001b[0m \u001b[32m━━━━━━━━━━━━━━━━━━━━\u001b[0m\u001b[37m\u001b[0m \u001b[1m0s\u001b[0m 10ms/step - loss: 881.3376 - mae: 23.8947 - val_loss: 1020.4451 - val_mae: 26.7228\n",
      "Epoch 23/50\n",
      "\u001b[1m20/20\u001b[0m \u001b[32m━━━━━━━━━━━━━━━━━━━━\u001b[0m\u001b[37m\u001b[0m \u001b[1m0s\u001b[0m 8ms/step - loss: 848.3192 - mae: 23.4117 - val_loss: 1002.5773 - val_mae: 26.4721\n",
      "Epoch 24/50\n",
      "\u001b[1m20/20\u001b[0m \u001b[32m━━━━━━━━━━━━━━━━━━━━\u001b[0m\u001b[37m\u001b[0m \u001b[1m0s\u001b[0m 7ms/step - loss: 832.2238 - mae: 23.6047 - val_loss: 982.2180 - val_mae: 26.1899\n",
      "Epoch 25/50\n",
      "\u001b[1m20/20\u001b[0m \u001b[32m━━━━━━━━━━━━━━━━━━━━\u001b[0m\u001b[37m\u001b[0m \u001b[1m0s\u001b[0m 7ms/step - loss: 785.8585 - mae: 21.8718 - val_loss: 963.3467 - val_mae: 25.9014\n",
      "Epoch 26/50\n",
      "\u001b[1m20/20\u001b[0m \u001b[32m━━━━━━━━━━━━━━━━━━━━\u001b[0m\u001b[37m\u001b[0m \u001b[1m0s\u001b[0m 7ms/step - loss: 797.9395 - mae: 22.5975 - val_loss: 940.8605 - val_mae: 25.6034\n",
      "Epoch 27/50\n",
      "\u001b[1m20/20\u001b[0m \u001b[32m━━━━━━━━━━━━━━━━━━━━\u001b[0m\u001b[37m\u001b[0m \u001b[1m0s\u001b[0m 6ms/step - loss: 746.4758 - mae: 21.6809 - val_loss: 926.1546 - val_mae: 25.3937\n",
      "Epoch 28/50\n",
      "\u001b[1m20/20\u001b[0m \u001b[32m━━━━━━━━━━━━━━━━━━━━\u001b[0m\u001b[37m\u001b[0m \u001b[1m0s\u001b[0m 6ms/step - loss: 749.7667 - mae: 21.8969 - val_loss: 907.6768 - val_mae: 25.1435\n",
      "Epoch 29/50\n",
      "\u001b[1m20/20\u001b[0m \u001b[32m━━━━━━━━━━━━━━━━━━━━\u001b[0m\u001b[37m\u001b[0m \u001b[1m0s\u001b[0m 6ms/step - loss: 726.0959 - mae: 21.5362 - val_loss: 884.7879 - val_mae: 24.8263\n",
      "Epoch 30/50\n",
      "\u001b[1m20/20\u001b[0m \u001b[32m━━━━━━━━━━━━━━━━━━━━\u001b[0m\u001b[37m\u001b[0m \u001b[1m0s\u001b[0m 6ms/step - loss: 761.6876 - mae: 21.7943 - val_loss: 869.0537 - val_mae: 24.5991\n",
      "Epoch 31/50\n",
      "\u001b[1m20/20\u001b[0m \u001b[32m━━━━━━━━━━━━━━━━━━━━\u001b[0m\u001b[37m\u001b[0m \u001b[1m0s\u001b[0m 7ms/step - loss: 722.7068 - mae: 21.2720 - val_loss: 853.0670 - val_mae: 24.3772\n",
      "Epoch 32/50\n",
      "\u001b[1m20/20\u001b[0m \u001b[32m━━━━━━━━━━━━━━━━━━━━\u001b[0m\u001b[37m\u001b[0m \u001b[1m0s\u001b[0m 6ms/step - loss: 732.4531 - mae: 21.3703 - val_loss: 835.4222 - val_mae: 24.1041\n",
      "Epoch 33/50\n",
      "\u001b[1m20/20\u001b[0m \u001b[32m━━━━━━━━━━━━━━━━━━━━\u001b[0m\u001b[37m\u001b[0m \u001b[1m0s\u001b[0m 6ms/step - loss: 648.9879 - mae: 20.1790 - val_loss: 823.0303 - val_mae: 23.9263\n",
      "Epoch 34/50\n",
      "\u001b[1m20/20\u001b[0m \u001b[32m━━━━━━━━━━━━━━━━━━━━\u001b[0m\u001b[37m\u001b[0m \u001b[1m0s\u001b[0m 6ms/step - loss: 709.3358 - mae: 21.0308 - val_loss: 802.9892 - val_mae: 23.6192\n",
      "Epoch 35/50\n",
      "\u001b[1m20/20\u001b[0m \u001b[32m━━━━━━━━━━━━━━━━━━━━\u001b[0m\u001b[37m\u001b[0m \u001b[1m0s\u001b[0m 7ms/step - loss: 659.6044 - mae: 20.2768 - val_loss: 785.7554 - val_mae: 23.3567\n",
      "Epoch 36/50\n",
      "\u001b[1m20/20\u001b[0m \u001b[32m━━━━━━━━━━━━━━━━━━━━\u001b[0m\u001b[37m\u001b[0m \u001b[1m0s\u001b[0m 6ms/step - loss: 681.9670 - mae: 20.5270 - val_loss: 771.9680 - val_mae: 23.1553\n",
      "Epoch 37/50\n",
      "\u001b[1m20/20\u001b[0m \u001b[32m━━━━━━━━━━━━━━━━━━━━\u001b[0m\u001b[37m\u001b[0m \u001b[1m0s\u001b[0m 6ms/step - loss: 582.1523 - mae: 19.2958 - val_loss: 759.9962 - val_mae: 22.9667\n",
      "Epoch 38/50\n",
      "\u001b[1m20/20\u001b[0m \u001b[32m━━━━━━━━━━━━━━━━━━━━\u001b[0m\u001b[37m\u001b[0m \u001b[1m0s\u001b[0m 6ms/step - loss: 636.7480 - mae: 20.2313 - val_loss: 747.7294 - val_mae: 22.7432\n",
      "Epoch 39/50\n",
      "\u001b[1m20/20\u001b[0m \u001b[32m━━━━━━━━━━━━━━━━━━━━\u001b[0m\u001b[37m\u001b[0m \u001b[1m0s\u001b[0m 5ms/step - loss: 598.1784 - mae: 19.3267 - val_loss: 736.4441 - val_mae: 22.5832\n",
      "Epoch 40/50\n",
      "\u001b[1m20/20\u001b[0m \u001b[32m━━━━━━━━━━━━━━━━━━━━\u001b[0m\u001b[37m\u001b[0m \u001b[1m0s\u001b[0m 6ms/step - loss: 527.3041 - mae: 18.0387 - val_loss: 722.3731 - val_mae: 22.3649\n",
      "Epoch 41/50\n",
      "\u001b[1m20/20\u001b[0m \u001b[32m━━━━━━━━━━━━━━━━━━━━\u001b[0m\u001b[37m\u001b[0m \u001b[1m0s\u001b[0m 8ms/step - loss: 610.4335 - mae: 19.6657 - val_loss: 705.3219 - val_mae: 22.0563\n",
      "Epoch 42/50\n",
      "\u001b[1m20/20\u001b[0m \u001b[32m━━━━━━━━━━━━━━━━━━━━\u001b[0m\u001b[37m\u001b[0m \u001b[1m0s\u001b[0m 7ms/step - loss: 551.6306 - mae: 18.7124 - val_loss: 697.0466 - val_mae: 21.8955\n",
      "Epoch 43/50\n",
      "\u001b[1m20/20\u001b[0m \u001b[32m━━━━━━━━━━━━━━━━━━━━\u001b[0m\u001b[37m\u001b[0m \u001b[1m0s\u001b[0m 6ms/step - loss: 521.6446 - mae: 18.0538 - val_loss: 685.7247 - val_mae: 21.7318\n",
      "Epoch 44/50\n",
      "\u001b[1m20/20\u001b[0m \u001b[32m━━━━━━━━━━━━━━━━━━━━\u001b[0m\u001b[37m\u001b[0m \u001b[1m0s\u001b[0m 6ms/step - loss: 563.7826 - mae: 19.0557 - val_loss: 676.4152 - val_mae: 21.5698\n",
      "Epoch 45/50\n",
      "\u001b[1m20/20\u001b[0m \u001b[32m━━━━━━━━━━━━━━━━━━━━\u001b[0m\u001b[37m\u001b[0m \u001b[1m0s\u001b[0m 7ms/step - loss: 597.3315 - mae: 19.1552 - val_loss: 662.0579 - val_mae: 21.3473\n",
      "Epoch 46/50\n",
      "\u001b[1m20/20\u001b[0m \u001b[32m━━━━━━━━━━━━━━━━━━━━\u001b[0m\u001b[37m\u001b[0m \u001b[1m0s\u001b[0m 8ms/step - loss: 484.1362 - mae: 17.2560 - val_loss: 652.7477 - val_mae: 21.1387\n",
      "Epoch 47/50\n",
      "\u001b[1m20/20\u001b[0m \u001b[32m━━━━━━━━━━━━━━━━━━━━\u001b[0m\u001b[37m\u001b[0m \u001b[1m0s\u001b[0m 7ms/step - loss: 531.0817 - mae: 18.2847 - val_loss: 642.0150 - val_mae: 20.9570\n",
      "Epoch 48/50\n",
      "\u001b[1m20/20\u001b[0m \u001b[32m━━━━━━━━━━━━━━━━━━━━\u001b[0m\u001b[37m\u001b[0m \u001b[1m0s\u001b[0m 8ms/step - loss: 498.1827 - mae: 17.5394 - val_loss: 632.0401 - val_mae: 20.8112\n",
      "Epoch 49/50\n",
      "\u001b[1m20/20\u001b[0m \u001b[32m━━━━━━━━━━━━━━━━━━━━\u001b[0m\u001b[37m\u001b[0m \u001b[1m0s\u001b[0m 8ms/step - loss: 530.7211 - mae: 18.2654 - val_loss: 624.8378 - val_mae: 20.6934\n",
      "Epoch 50/50\n",
      "\u001b[1m20/20\u001b[0m \u001b[32m━━━━━━━━━━━━━━━━━━━━\u001b[0m\u001b[37m\u001b[0m \u001b[1m0s\u001b[0m 7ms/step - loss: 567.2909 - mae: 18.3891 - val_loss: 612.3470 - val_mae: 20.4582\n"
     ]
    }
   ],
   "source": [
    "history = model.fit(X_train, y_train, epochs=50, batch_size=32, validation_split=0.2, verbose=1)"
   ]
  },
  {
   "cell_type": "code",
   "execution_count": 10,
   "id": "958df707-01b9-48fe-b802-fcad6990cd9f",
   "metadata": {},
   "outputs": [
    {
     "name": "stdout",
     "output_type": "stream",
     "text": [
      "\u001b[1m7/7\u001b[0m \u001b[32m━━━━━━━━━━━━━━━━━━━━\u001b[0m\u001b[37m\u001b[0m \u001b[1m0s\u001b[0m 7ms/step - loss: 637.2090 - mae: 21.2270  \n",
      "Test Mean Absolute Error: 20.84\n"
     ]
    }
   ],
   "source": [
    "test_loss, test_mae = model.evaluate(X_test, y_test, verbose=1)\n",
    "print(f\"Test Mean Absolute Error: {test_mae:.2f}\")"
   ]
  },
  {
   "cell_type": "code",
   "execution_count": 11,
   "id": "d6ff8792",
   "metadata": {},
   "outputs": [
    {
     "name": "stdout",
     "output_type": "stream",
     "text": [
      "\u001b[1m7/7\u001b[0m \u001b[32m━━━━━━━━━━━━━━━━━━━━\u001b[0m\u001b[37m\u001b[0m \u001b[1m0s\u001b[0m 13ms/step\n"
     ]
    },
    {
     "data": {
      "text/plain": [
       "0.5757500290166695"
      ]
     },
     "execution_count": 11,
     "metadata": {},
     "output_type": "execute_result"
    }
   ],
   "source": [
    "from sklearn.metrics import r2_score\n",
    "y_pred = model.predict(X_test)\n",
    "r2 = r2_score(y_test, y_pred)\n",
    "r2"
   ]
  },
  {
   "cell_type": "code",
   "execution_count": 12,
   "id": "e48417e4-c56b-420b-9c74-ee312c5a67e7",
   "metadata": {},
   "outputs": [
    {
     "data": {
      "image/png": "[encoded data removed]",
      "text/plain": [
       "<Figure size 640x480 with 1 Axes>"
      ]
     },
     "metadata": {},
     "output_type": "display_data"
    }
   ],
   "source": [
    "plt.plot(history.history['loss'], label='Training Loss')\n",
    "plt.plot(history.history['val_loss'], label='Validation Loss')\n",
    "plt.xlabel('Epochs')\n",
    "plt.ylabel('Loss')\n",
    "plt.title('Model Training Performance')\n",
    "plt.legend()\n",
    "plt.show()"
   ]
  },
  {
   "cell_type": "code",
   "execution_count": 13,
   "id": "2f90c140-a8d9-4286-968b-1bf2fc2a4605",
   "metadata": {},
   "outputs": [
    {
     "name": "stdout",
     "output_type": "stream",
     "text": [
      "\u001b[1m7/7\u001b[0m \u001b[32m━━━━━━━━━━━━━━━━━━━━\u001b[0m\u001b[37m\u001b[0m \u001b[1m0s\u001b[0m 4ms/step \n"
     ]
    },
    {
     "data": {
      "text/plain": [
       "array([[222.20406],\n",
       "       [258.80292],\n",
       "       [315.38416],\n",
       "       [224.61926],\n",
       "       [263.4123 ],\n",
       "       [202.65448],\n",
       "       [247.37292],\n",
       "       [294.2696 ],\n",
       "       [248.4496 ],\n",
       "       [245.24995],\n",
       "       [307.2564 ],\n",
       "       [231.15463],\n",
       "       [203.86714],\n",
       "       [221.77907],\n",
       "       [253.25056],\n",
       "       [243.11946],\n",
       "       [265.97192],\n",
       "       [202.47423],\n",
       "       [261.41693],\n",
       "       [263.01727],\n",
       "       [202.04198],\n",
       "       [255.7405 ],\n",
       "       [253.36794],\n",
       "       [219.58232],\n",
       "       [215.64839],\n",
       "       [199.51372],\n",
       "       [227.15169],\n",
       "       [245.44077],\n",
       "       [201.0828 ],\n",
       "       [254.57758],\n",
       "       [277.63678],\n",
       "       [274.09848],\n",
       "       [204.73528],\n",
       "       [272.60492],\n",
       "       [204.29204],\n",
       "       [171.35304],\n",
       "       [230.9514 ],\n",
       "       [184.70819],\n",
       "       [253.21413],\n",
       "       [278.59155],\n",
       "       [210.33154],\n",
       "       [192.1244 ],\n",
       "       [203.79039],\n",
       "       [212.20598],\n",
       "       [185.59439],\n",
       "       [241.68796],\n",
       "       [217.99693],\n",
       "       [235.23174],\n",
       "       [225.585  ],\n",
       "       [224.37822],\n",
       "       [207.31258],\n",
       "       [244.52992],\n",
       "       [181.22845],\n",
       "       [323.47327],\n",
       "       [276.51062],\n",
       "       [227.87251],\n",
       "       [226.44844],\n",
       "       [239.27681],\n",
       "       [331.78314],\n",
       "       [213.47049],\n",
       "       [197.01976],\n",
       "       [243.78865],\n",
       "       [233.21988],\n",
       "       [406.45532],\n",
       "       [198.67256],\n",
       "       [251.11607],\n",
       "       [252.89189],\n",
       "       [175.14565],\n",
       "       [221.33858],\n",
       "       [216.19957],\n",
       "       [209.7061 ],\n",
       "       [263.64706],\n",
       "       [219.53816],\n",
       "       [288.92987],\n",
       "       [247.86984],\n",
       "       [234.65416],\n",
       "       [225.3489 ],\n",
       "       [172.62639],\n",
       "       [252.66368],\n",
       "       [223.13445],\n",
       "       [262.68256],\n",
       "       [180.2405 ],\n",
       "       [207.8043 ],\n",
       "       [209.46964],\n",
       "       [188.23045],\n",
       "       [254.46881],\n",
       "       [272.57245],\n",
       "       [265.44266],\n",
       "       [239.69136],\n",
       "       [249.54399],\n",
       "       [335.86057],\n",
       "       [214.47566],\n",
       "       [238.4116 ],\n",
       "       [210.79628],\n",
       "       [209.51619],\n",
       "       [250.66322],\n",
       "       [234.81613],\n",
       "       [266.76093],\n",
       "       [259.34552],\n",
       "       [273.1242 ],\n",
       "       [210.69127],\n",
       "       [236.95467],\n",
       "       [276.51425],\n",
       "       [231.69637],\n",
       "       [308.30872],\n",
       "       [213.00047],\n",
       "       [181.52394],\n",
       "       [185.77155],\n",
       "       [267.6349 ],\n",
       "       [250.70955],\n",
       "       [218.12747],\n",
       "       [226.06436],\n",
       "       [247.22829],\n",
       "       [244.35172],\n",
       "       [296.78012],\n",
       "       [255.15498],\n",
       "       [254.34288],\n",
       "       [312.11426],\n",
       "       [253.11966],\n",
       "       [216.37274],\n",
       "       [222.72873],\n",
       "       [227.23112],\n",
       "       [261.91537],\n",
       "       [241.86053],\n",
       "       [232.85924],\n",
       "       [246.89764],\n",
       "       [296.79312],\n",
       "       [198.33919],\n",
       "       [208.05687],\n",
       "       [269.7323 ],\n",
       "       [214.21327],\n",
       "       [215.69862],\n",
       "       [262.03778],\n",
       "       [261.6375 ],\n",
       "       [281.59003],\n",
       "       [213.76653],\n",
       "       [222.64809],\n",
       "       [258.73846],\n",
       "       [249.69395],\n",
       "       [223.56706],\n",
       "       [286.21326],\n",
       "       [222.33897],\n",
       "       [311.06332],\n",
       "       [181.155  ],\n",
       "       [211.15508],\n",
       "       [260.82547],\n",
       "       [234.33081],\n",
       "       [276.06873],\n",
       "       [313.33545],\n",
       "       [189.31126],\n",
       "       [301.42334],\n",
       "       [269.0008 ],\n",
       "       [373.41635],\n",
       "       [310.1889 ],\n",
       "       [218.54852],\n",
       "       [239.58269],\n",
       "       [215.41365],\n",
       "       [304.2967 ],\n",
       "       [248.01161],\n",
       "       [209.95174],\n",
       "       [200.84273],\n",
       "       [245.37436],\n",
       "       [265.94962],\n",
       "       [236.06007],\n",
       "       [272.52673],\n",
       "       [420.751  ],\n",
       "       [208.71584],\n",
       "       [228.13408],\n",
       "       [244.18867],\n",
       "       [231.31316],\n",
       "       [225.59547],\n",
       "       [204.92723],\n",
       "       [324.5657 ],\n",
       "       [204.55177],\n",
       "       [296.0871 ],\n",
       "       [183.66609],\n",
       "       [299.80652],\n",
       "       [210.08751],\n",
       "       [250.99165],\n",
       "       [231.54784],\n",
       "       [245.74126],\n",
       "       [221.13708],\n",
       "       [258.83218],\n",
       "       [291.13287],\n",
       "       [241.66177],\n",
       "       [203.90645],\n",
       "       [235.91377],\n",
       "       [215.95026],\n",
       "       [194.0572 ],\n",
       "       [278.63126],\n",
       "       [218.05128],\n",
       "       [189.02031],\n",
       "       [204.39925],\n",
       "       [267.06284],\n",
       "       [263.92175],\n",
       "       [196.5761 ],\n",
       "       [199.43419],\n",
       "       [190.7733 ],\n",
       "       [260.87964],\n",
       "       [184.3145 ]], dtype=float32)"
      ]
     },
     "execution_count": 13,
     "metadata": {},
     "output_type": "execute_result"
    }
   ],
   "source": [
    "predictions = model.predict(X_test)\n",
    "predictions"
   ]
  },
  {
   "cell_type": "code",
   "execution_count": 14,
   "id": "fb0150f3-2a4d-422c-a8e8-edb165606e1a",
   "metadata": {},
   "outputs": [
    {
     "data": {
      "image/png": "[encoded data removed]",
      "text/plain": [
       "<Figure size 800x600 with 1 Axes>"
      ]
     },
     "metadata": {},
     "output_type": "display_data"
    }
   ],
   "source": [
    "import seaborn as sns\n",
    "sns.set(style=\"whitegrid\")\n",
    "plt.figure(figsize=(8, 6))\n",
    "\n",
    "# Create scatter + regression line plot\n",
    "sns.regplot(x=y_test, y=predictions, ci=None, line_kws={\"color\": \"red\"})\n",
    "\n",
    "# Add labels\n",
    "plt.xlabel(\"Actual Values (y_test)\")\n",
    "plt.ylabel(\"Predicted Values (predictions)\")\n",
    "plt.title(\"Regression Plot: Actual vs Predicted\")\n",
    "plt.show()"
   ]
  }
 ],
 "metadata": {
  "kernelspec": {
   "display_name": "Python 3",
   "language": "python",
   "name": "python3"
  },
  "language_info": {
   "codemirror_mode": {
    "name": "ipython",
    "version": 3
   },
   "file_extension": ".py",
   "mimetype": "text/x-python",
   "name": "python",
   "nbconvert_exporter": "python",
   "pygments_lexer": "ipython3",
   "version": "3.11.4"
  }
 },
 "nbformat": 4,
 "nbformat_minor": 5
}
